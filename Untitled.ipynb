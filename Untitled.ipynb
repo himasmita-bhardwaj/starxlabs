{
 "cells": [
  {
   "cell_type": "code",
   "execution_count": null,
   "metadata": {},
   "outputs": [],
   "source": [
    "Assignment ans 1"
   ]
  },
  {
   "cell_type": "code",
   "execution_count": 3,
   "metadata": {},
   "outputs": [
    {
     "name": "stdout",
     "output_type": "stream",
     "text": [
      "9\n",
      "10\n"
     ]
    }
   ],
   "source": [
    "def checkout_time(customer_times, registers):\n",
    "    time_elapsed = 0\n",
    "\n",
    "    # each register takes the first customer in line\n",
    "    registers = [customer_times.pop(0) for x in range(registers)]\n",
    "\n",
    "    # while there is a line and all registers are not done\n",
    "    while any(register > 0 for register in registers):\n",
    "        # increment time\n",
    "        time_elapsed += 1\n",
    "\n",
    "        # for each register\n",
    "        for x in range(0, len(registers)):\n",
    "            # decrease customer times\n",
    "            registers[x] -= 1\n",
    "\n",
    "            # take the next customer in line\n",
    "            if registers[x] == 0:\n",
    "                if customer_times:\n",
    "                    registers[x] = customer_times.pop(0)\n",
    "\n",
    "                else:\n",
    "                    registers[x] = 0\n",
    "\n",
    "    return time_elapsed\n",
    "\n",
    "\n",
    "if __name__ == \"__main__\":\n",
    "    print(checkout_time([5, 1, 3], 1))\n",
    "    print(checkout_time([10, 3, 4, 2], 2))"
   ]
  },
  {
   "cell_type": "code",
   "execution_count": null,
   "metadata": {},
   "outputs": [],
   "source": []
  }
 ],
 "metadata": {
  "kernelspec": {
   "display_name": "Python 3",
   "language": "python",
   "name": "python3"
  },
  "language_info": {
   "codemirror_mode": {
    "name": "ipython",
    "version": 3
   },
   "file_extension": ".py",
   "mimetype": "text/x-python",
   "name": "python",
   "nbconvert_exporter": "python",
   "pygments_lexer": "ipython3",
   "version": "3.7.3"
  }
 },
 "nbformat": 4,
 "nbformat_minor": 2
}
